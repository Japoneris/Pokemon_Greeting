{
 "cells": [
  {
   "cell_type": "code",
   "execution_count": 1,
   "metadata": {},
   "outputs": [],
   "source": [
    "from PIL import Image\n",
    "import numpy as np"
   ]
  },
  {
   "cell_type": "markdown",
   "metadata": {},
   "source": [
    "#### Get data from file"
   ]
  },
  {
   "cell_type": "code",
   "execution_count": 2,
   "metadata": {},
   "outputs": [],
   "source": [
    "file_to_cut = \"Pokedex.png\"\n",
    "\n",
    "my_img = Image.open(file_to_cut)"
   ]
  },
  {
   "cell_type": "markdown",
   "metadata": {},
   "source": [
    "#### Format and get properties"
   ]
  },
  {
   "cell_type": "code",
   "execution_count": 3,
   "metadata": {},
   "outputs": [
    {
     "name": "stdout",
     "output_type": "stream",
     "text": [
      "2188 2000\n"
     ]
    }
   ],
   "source": [
    "Data = list(my_img.getdata())\n",
    "\n",
    "cx, rx = my_img.size\n",
    "print(rx, cx)"
   ]
  },
  {
   "cell_type": "markdown",
   "metadata": {},
   "source": [
    "#### Human description"
   ]
  },
  {
   "cell_type": "code",
   "execution_count": 4,
   "metadata": {},
   "outputs": [],
   "source": [
    "nc, nr = 25, 26 # number of pokemon per col/row\n",
    "sc, sr = 80, 86 # larger of columns / rows"
   ]
  },
  {
   "cell_type": "markdown",
   "metadata": {},
   "source": [
    "#### Formating"
   ]
  },
  {
   "cell_type": "code",
   "execution_count": 5,
   "metadata": {},
   "outputs": [],
   "source": [
    "Formated_data = np.array(Data).reshape((rx,cx,4))"
   ]
  },
  {
   "cell_type": "markdown",
   "metadata": {},
   "source": [
    "#### Test"
   ]
  },
  {
   "cell_type": "code",
   "execution_count": 6,
   "metadata": {},
   "outputs": [
    {
     "data": {
      "image/png": "[encoded data removed]",
      "text/plain": [
       "<PIL.Image.Image image mode=RGBA size=80x42 at 0x7FF6F00A07F0>"
      ]
     },
     "execution_count": 6,
     "metadata": {},
     "output_type": "execute_result"
    }
   ],
   "source": [
    "pixel_data = Formated_data[23 : 65, 0:sc]\n",
    "Image.fromarray(np.uint8(pixel_data))"
   ]
  },
  {
   "cell_type": "markdown",
   "metadata": {},
   "source": [
    "### Best for today, but some error for big pokemon"
   ]
  },
  {
   "cell_type": "code",
   "execution_count": 7,
   "metadata": {},
   "outputs": [],
   "source": [
    "sc = 80\n",
    "past = Formated_data[0,0:sc]\n",
    "\n",
    "LST_pokemon = []\n",
    "\n",
    "for cnt_j in range(nc) :\n",
    "    cnt  =  0\n",
    "    flag = -1\n",
    "    lst  = []\n",
    "    \n",
    "    for i in range(rx):\n",
    "        present = Formated_data[i, cnt_j*sc:(cnt_j+1)*sc]\n",
    "        if (present == past).all() :\n",
    "            if 10 >= i - flag:\n",
    "                flag = i\n",
    "            else :\n",
    "                pixel_data = Formated_data[flag:i, cnt_j*sc:(cnt_j+1)*sc]\n",
    "                pic = Image.fromarray(np.uint8(pixel_data))\n",
    "                pic.save(\"Poke/col{}_{}.png\".format(cnt+1, cnt_j+1))\n",
    "                cnt += 1\n",
    "                flag = i\n",
    "                lst.append(pic)\n",
    "                \n",
    "    # save a column of pokemon together\n",
    "    LST_pokemon.append(lst)\n",
    "        "
   ]
  },
  {
   "cell_type": "code",
   "execution_count": 8,
   "metadata": {},
   "outputs": [
    {
     "data": {
      "image/png": "[encoded data removed]",
      "text/plain": [
       "<PIL.Image.Image image mode=RGBA size=80x41 at 0x7FCC45DCA518>"
      ]
     },
     "execution_count": 8,
     "metadata": {},
     "output_type": "execute_result"
    }
   ],
   "source": [
    "LST_pokemon[15][10]"
   ]
  }
 ],
 "metadata": {
  "kernelspec": {
   "display_name": "Python 3",
   "language": "python",
   "name": "python3"
  },
  "language_info": {
   "codemirror_mode": {
    "name": "ipython",
    "version": 3
   },
   "file_extension": ".py",
   "mimetype": "text/x-python",
   "name": "python",
   "nbconvert_exporter": "python",
   "pygments_lexer": "ipython3",
   "version": "3.6.2"
  }
 },
 "nbformat": 4,
 "nbformat_minor": 2
}
