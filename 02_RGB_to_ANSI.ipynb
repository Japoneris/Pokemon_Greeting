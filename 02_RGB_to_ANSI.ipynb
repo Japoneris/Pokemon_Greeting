{
 "cells": [
  {
   "cell_type": "markdown",
   "metadata": {},
   "source": [
    "# Documentation about RGB and ANSI colour code\n",
    "\n",
    "\n",
    "- [WIKI ANSI](https://en.wikipedia.org/wiki/ANSI_escape_code)\n",
    "- [Python_package](https://pypi.python.org/pypi/ansicolors)\n",
    "- [WIKI_Term](https://en.wikipedia.org/wiki/Terminal_capabilities)\n",
    "\n",
    "Execute in a term: \n",
    "```bash\n",
    "echo -e (cat test_pika.txt ) \n",
    "```"
   ]
  },
  {
   "cell_type": "code",
   "execution_count": 1,
   "metadata": {},
   "outputs": [],
   "source": [
    "from ansi.colour import rgb\n",
    "from PIL import Image\n",
    "import numpy as np"
   ]
  },
  {
   "cell_type": "code",
   "execution_count": 2,
   "metadata": {},
   "outputs": [
    {
     "data": {
      "image/png": "[encoded data removed]",
      "text/plain": [
       "<PIL.PngImagePlugin.PngImageFile image mode=RGBA size=80x46 at 0x7F0DE91D3FD0>"
      ]
     },
     "execution_count": 2,
     "metadata": {},
     "output_type": "execute_result"
    }
   ],
   "source": [
    "my_pikachu = \"Poke/col1_25.png\"\n",
    "my_img = Image.open(my_pikachu)\n",
    "my_img"
   ]
  },
  {
   "cell_type": "code",
   "execution_count": 3,
   "metadata": {},
   "outputs": [
    {
     "name": "stdout",
     "output_type": "stream",
     "text": [
      "80 46\n"
     ]
    }
   ],
   "source": [
    "DATA = my_img.getdata()\n",
    "(s1, s2) = my_img.size\n",
    "print(s1, s2)"
   ]
  },
  {
   "cell_type": "markdown",
   "metadata": {},
   "source": [
    "----------------"
   ]
  },
  {
   "cell_type": "markdown",
   "metadata": {},
   "source": [
    "### Transform image array to bash color"
   ]
  },
  {
   "cell_type": "code",
   "execution_count": 4,
   "metadata": {},
   "outputs": [],
   "source": [
    "transformed = np.array(list(DATA)).reshape((s2,s1,4))"
   ]
  },
  {
   "cell_type": "code",
   "execution_count": 5,
   "metadata": {},
   "outputs": [],
   "source": [
    "s1, s2    = transformed.shape[:2]\n",
    "color_mat = np.zeros((s1, s2)).astype(str)\n",
    "\n",
    "for idx, i in enumerate(transformed):\n",
    "    r = np.array([-1,-1,-1,-1])\n",
    "    \n",
    "    for jdx, j in enumerate(i):\n",
    "        if (j == np.array(r)).all() :\n",
    "            color_mat[idx][jdx] = \"\"\n",
    "        else :\n",
    "            color_mat[idx][jdx] = rgb.rgb256(j[0], j[1], j[2])\n",
    "            r = j # remember the previous state\n",
    "            "
   ]
  },
  {
   "cell_type": "code",
   "execution_count": 6,
   "metadata": {},
   "outputs": [],
   "source": [
    "# remove background when alpha = 0\n",
    "A,B = np.where(transformed[:,:,3] == 0) \n",
    "for a,b in zip(A,B):\n",
    "    if color_mat[a][b] != '':\n",
    "        color_mat[a][b] = '\\x1b[49m'\n",
    "        \n"
   ]
  },
  {
   "cell_type": "code",
   "execution_count": 7,
   "metadata": {},
   "outputs": [],
   "source": [
    "my_str = \"\"\n",
    "for row in color_mat:\n",
    "    my_str += '  '.join(row).replace(\"\\x1b\", '\\e') + '\\\\n'\n",
    "\n",
    "# 38 is the code for text... 48 for background !!\n",
    "my_str = my_str.replace('[38;', \"[48;\")"
   ]
  },
  {
   "cell_type": "code",
   "execution_count": 8,
   "metadata": {},
   "outputs": [],
   "source": [
    "with open(\"test_pika.txt\", 'w') as fp:\n",
    "    fp.write(my_str)"
   ]
  }
 ],
 "metadata": {
  "kernelspec": {
   "display_name": "Python 3",
   "language": "python",
   "name": "python3"
  },
  "language_info": {
   "codemirror_mode": {
    "name": "ipython",
    "version": 3
   },
   "file_extension": ".py",
   "mimetype": "text/x-python",
   "name": "python",
   "nbconvert_exporter": "python",
   "pygments_lexer": "ipython3",
   "version": "3.6.2"
  }
 },
 "nbformat": 4,
 "nbformat_minor": 2
}
